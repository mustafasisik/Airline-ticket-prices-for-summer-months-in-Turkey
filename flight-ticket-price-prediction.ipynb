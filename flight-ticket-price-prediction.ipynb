{
 "cells": [
  {
   "cell_type": "code",
   "execution_count": 1,
   "id": "d53e08d9",
   "metadata": {
    "_cell_guid": "d632920c-c8cb-4351-b6bf-70bbdbaa602b",
    "_uuid": "1b397143-f642-45fe-aee8-8420e03e7044",
    "collapsed": false,
    "execution": {
     "iopub.execute_input": "2022-03-19T00:31:14.310508Z",
     "iopub.status.busy": "2022-03-19T00:31:14.309130Z",
     "iopub.status.idle": "2022-03-19T00:31:15.741586Z",
     "shell.execute_reply": "2022-03-19T00:31:15.740922Z",
     "shell.execute_reply.started": "2022-03-19T00:23:51.309798Z"
    },
    "jupyter": {
     "outputs_hidden": false
    },
    "papermill": {
     "duration": 1.449033,
     "end_time": "2022-03-19T00:31:15.742089",
     "exception": false,
     "start_time": "2022-03-19T00:31:14.293056",
     "status": "completed"
    },
    "tags": []
   },
   "outputs": [
    {
     "data": {
      "text/html": [
       "<div>\n",
       "<style scoped>\n",
       "    .dataframe tbody tr th:only-of-type {\n",
       "        vertical-align: middle;\n",
       "    }\n",
       "\n",
       "    .dataframe tbody tr th {\n",
       "        vertical-align: top;\n",
       "    }\n",
       "\n",
       "    .dataframe thead th {\n",
       "        text-align: right;\n",
       "    }\n",
       "</style>\n",
       "<table border=\"1\" class=\"dataframe\">\n",
       "  <thead>\n",
       "    <tr style=\"text-align: right;\">\n",
       "      <th></th>\n",
       "      <th>Airplane</th>\n",
       "      <th>Date</th>\n",
       "      <th>DepCode</th>\n",
       "      <th>Way</th>\n",
       "      <th>DesCode</th>\n",
       "      <th>DepTime</th>\n",
       "      <th>ArrTime</th>\n",
       "      <th>Day</th>\n",
       "      <th>Duration</th>\n",
       "      <th>Price</th>\n",
       "      <th>PriceEx</th>\n",
       "      <th>DateOfBought</th>\n",
       "      <th>Stop</th>\n",
       "      <th>Days</th>\n",
       "    </tr>\n",
       "  </thead>\n",
       "  <tbody>\n",
       "    <tr>\n",
       "      <th>0</th>\n",
       "      <td>THY</td>\n",
       "      <td>1.06.2022</td>\n",
       "      <td>ESB</td>\n",
       "      <td>ESB-IST-AYT</td>\n",
       "      <td>AYT</td>\n",
       "      <td>03:05</td>\n",
       "      <td>07:30</td>\n",
       "      <td>A</td>\n",
       "      <td>265</td>\n",
       "      <td>789</td>\n",
       "      <td>98</td>\n",
       "      <td>16.02.2022</td>\n",
       "      <td>2.0</td>\n",
       "      <td>105</td>\n",
       "    </tr>\n",
       "    <tr>\n",
       "      <th>1</th>\n",
       "      <td>THY</td>\n",
       "      <td>1.06.2022</td>\n",
       "      <td>ESB</td>\n",
       "      <td>ESB-IST-GZT</td>\n",
       "      <td>GZT</td>\n",
       "      <td>03:05</td>\n",
       "      <td>08:15</td>\n",
       "      <td>A</td>\n",
       "      <td>310</td>\n",
       "      <td>909</td>\n",
       "      <td>98</td>\n",
       "      <td>16.02.2022</td>\n",
       "      <td>2.0</td>\n",
       "      <td>105</td>\n",
       "    </tr>\n",
       "    <tr>\n",
       "      <th>2</th>\n",
       "      <td>THY</td>\n",
       "      <td>1.06.2022</td>\n",
       "      <td>ESB</td>\n",
       "      <td>ESB-DLM</td>\n",
       "      <td>DLM</td>\n",
       "      <td>07:50</td>\n",
       "      <td>09:00</td>\n",
       "      <td>A</td>\n",
       "      <td>70</td>\n",
       "      <td>606</td>\n",
       "      <td>99</td>\n",
       "      <td>16.02.2022</td>\n",
       "      <td>1.0</td>\n",
       "      <td>105</td>\n",
       "    </tr>\n",
       "    <tr>\n",
       "      <th>3</th>\n",
       "      <td>THY</td>\n",
       "      <td>1.06.2022</td>\n",
       "      <td>ESB</td>\n",
       "      <td>ESB-IST</td>\n",
       "      <td>IST</td>\n",
       "      <td>03:05</td>\n",
       "      <td>04:15</td>\n",
       "      <td>A</td>\n",
       "      <td>70</td>\n",
       "      <td>388</td>\n",
       "      <td>99</td>\n",
       "      <td>16.02.2022</td>\n",
       "      <td>1.0</td>\n",
       "      <td>105</td>\n",
       "    </tr>\n",
       "    <tr>\n",
       "      <th>4</th>\n",
       "      <td>THY</td>\n",
       "      <td>1.06.2022</td>\n",
       "      <td>ESB</td>\n",
       "      <td>ESB-IST</td>\n",
       "      <td>IST</td>\n",
       "      <td>07:50</td>\n",
       "      <td>08:55</td>\n",
       "      <td>A</td>\n",
       "      <td>65</td>\n",
       "      <td>539</td>\n",
       "      <td>99</td>\n",
       "      <td>16.02.2022</td>\n",
       "      <td>1.0</td>\n",
       "      <td>105</td>\n",
       "    </tr>\n",
       "  </tbody>\n",
       "</table>\n",
       "</div>"
      ],
      "text/plain": [
       "  Airplane       Date DepCode          Way DesCode DepTime ArrTime Day  \\\n",
       "0      THY  1.06.2022     ESB  ESB-IST-AYT     AYT   03:05   07:30   A   \n",
       "1      THY  1.06.2022     ESB  ESB-IST-GZT     GZT   03:05   08:15   A   \n",
       "2      THY  1.06.2022     ESB      ESB-DLM     DLM   07:50   09:00   A   \n",
       "3      THY  1.06.2022     ESB      ESB-IST     IST   03:05   04:15   A   \n",
       "4      THY  1.06.2022     ESB      ESB-IST     IST   07:50   08:55   A   \n",
       "\n",
       "   Duration  Price  PriceEx DateOfBought  Stop  Days  \n",
       "0       265    789       98   16.02.2022   2.0   105  \n",
       "1       310    909       98   16.02.2022   2.0   105  \n",
       "2        70    606       99   16.02.2022   1.0   105  \n",
       "3        70    388       99   16.02.2022   1.0   105  \n",
       "4        65    539       99   16.02.2022   1.0   105  "
      ]
     },
     "execution_count": 1,
     "metadata": {},
     "output_type": "execute_result"
    }
   ],
   "source": [
    "# This Python 3 environment comes with many helpful analytics libraries installed\n",
    "# It is defined by the kaggle/python Docker image: https://github.com/kaggle/docker-python\n",
    "# For example, here'sta several helpful packages to load\n",
    "\n",
    "import numpy as np # linear algebra\n",
    "import pandas as pd # data processing, CSV file I/O (e.g. pd.read_csv)\n",
    "from numpy import math\n",
    "\n",
    "from sklearn.preprocessing import MinMaxScaler, StandardScaler\n",
    "from sklearn.model_selection import train_test_split\n",
    "from sklearn.linear_model import LinearRegression\n",
    "from sklearn.ensemble import RandomForestRegressor\n",
    "from sklearn.neural_network import MLPRegressor\n",
    "from sklearn.neighbors import KNeighborsRegressor\n",
    "from sklearn.svm import SVR\n",
    "from sklearn.metrics import r2_score, mean_squared_error, adjusted_rand_score\n",
    "import matplotlib.pyplot as plt\n",
    "\n",
    "data = pd.read_csv(\"/kaggle/input/pricex/pricex.csv\", sep=';')\n",
    "data.head()"
   ]
  },
  {
   "cell_type": "code",
   "execution_count": 2,
   "id": "dd24b968",
   "metadata": {
    "_cell_guid": "726e69cb-a7ef-4dbb-a79e-020e12aedd34",
    "_uuid": "28aa0871-49b7-4679-b430-4cfb79cc963c",
    "collapsed": false,
    "execution": {
     "iopub.execute_input": "2022-03-19T00:31:15.780278Z",
     "iopub.status.busy": "2022-03-19T00:31:15.773944Z",
     "iopub.status.idle": "2022-03-19T00:31:15.824928Z",
     "shell.execute_reply": "2022-03-19T00:31:15.825415Z",
     "shell.execute_reply.started": "2022-03-19T00:23:51.348932Z"
    },
    "jupyter": {
     "outputs_hidden": false
    },
    "papermill": {
     "duration": 0.070691,
     "end_time": "2022-03-19T00:31:15.825616",
     "exception": false,
     "start_time": "2022-03-19T00:31:15.754925",
     "status": "completed"
    },
    "tags": []
   },
   "outputs": [],
   "source": [
    "data.DateOfBought = data.DateOfBought.str.split(\".\")\n",
    "data[\"BoughtDay\"] = data.DateOfBought.str[0]\n",
    "data[\"BoughtMonth\"] = data.DateOfBought.str[1]\n",
    "data[\"BoughtYear\"] = data.DateOfBought.str[2]\n",
    "\n",
    "data.Date = data.Date.str.split(\".\")\n",
    "data[\"FlightDay\"] = data.Date.str[0]\n",
    "data[\"FlightMonth\"] = data.Date.str[1]\n",
    "data[\"FlightYear\"] = data.Date.str[2]\n",
    "\n",
    "data.DepTime = data.DepTime.str.split(\":\")\n",
    "data[\"DepHour\"] = data.DepTime.str[0]\n",
    "data[\"DepMinute\"] = data.DepTime.str[1]\n",
    "\n",
    "data.ArrTime = data.ArrTime.str.split(\":\")\n",
    "data[\"ArrHour\"] = data.ArrTime.str[0]\n",
    "data[\"ArrMinute\"] = data.ArrTime.str[1]\n",
    "\n",
    "data = pd.concat((data, pd.get_dummies(data[\"Day\"])), axis=1)\n",
    "#data = pd.concat((data, pd.get_dummies(data[\"Way\"])), axis=1)\n",
    "data = pd.concat((data, pd.get_dummies(data[\"Airplane\"])), axis=1)\n",
    "data = pd.concat((data, pd.get_dummies(data[\"DepCode\"])), axis=1)\n",
    "data = pd.concat((data, pd.get_dummies(data[\"DesCode\"])), axis=1)"
   ]
  },
  {
   "cell_type": "code",
   "execution_count": 3,
   "id": "d1c83e26",
   "metadata": {
    "_cell_guid": "5df9613a-0afb-41e7-b1e7-a63422b8c696",
    "_uuid": "4b29385d-bdeb-4fc7-a7b4-009182c31d33",
    "collapsed": false,
    "execution": {
     "iopub.execute_input": "2022-03-19T00:31:15.858253Z",
     "iopub.status.busy": "2022-03-19T00:31:15.857553Z",
     "iopub.status.idle": "2022-03-19T00:31:15.884116Z",
     "shell.execute_reply": "2022-03-19T00:31:15.883422Z",
     "shell.execute_reply.started": "2022-03-19T00:23:51.389233Z"
    },
    "jupyter": {
     "outputs_hidden": false
    },
    "papermill": {
     "duration": 0.048624,
     "end_time": "2022-03-19T00:31:15.884265",
     "exception": false,
     "start_time": "2022-03-19T00:31:15.835641",
     "status": "completed"
    },
    "tags": []
   },
   "outputs": [],
   "source": [
    "data[\"BoughtDay\"] = data[\"BoughtDay\"].astype('int64')\n",
    "data[\"BoughtMonth\"] = data[\"BoughtMonth\"].astype('int64')\n",
    "data[\"BoughtYear\"] = data[\"BoughtYear\"].astype('int64')\n",
    "data[\"FlightDay\"] = data[\"FlightDay\"].astype('int64')\n",
    "data[\"FlightMonth\"] = data[\"FlightMonth\"].astype('int64')\n",
    "data[\"FlightYear\"] = data[\"FlightYear\"].astype('int64')\n",
    "data[\"DepHour\"] = data[\"DepHour\"].astype('int64')\n",
    "data[\"DepMinute\"] = data[\"DepMinute\"].astype('int64')\n",
    "data[\"ArrHour\"] = data[\"ArrHour\"].astype('int64')\n",
    "data[\"ArrMinute\"] = data[\"ArrMinute\"].astype('int64')\n",
    "data[\"Stop\"] = data[\"Stop\"].astype('float64')"
   ]
  },
  {
   "cell_type": "code",
   "execution_count": 4,
   "id": "6abbfab2",
   "metadata": {
    "_cell_guid": "83dc16bd-7697-4717-893f-fdf5703a3844",
    "_uuid": "91778f38-4659-485b-a614-c5e6ab8b851c",
    "collapsed": false,
    "execution": {
     "iopub.execute_input": "2022-03-19T00:31:15.914635Z",
     "iopub.status.busy": "2022-03-19T00:31:15.913776Z",
     "iopub.status.idle": "2022-03-19T00:31:15.919137Z",
     "shell.execute_reply": "2022-03-19T00:31:15.918602Z",
     "shell.execute_reply.started": "2022-03-19T00:23:51.430006Z"
    },
    "jupyter": {
     "outputs_hidden": false
    },
    "papermill": {
     "duration": 0.024798,
     "end_time": "2022-03-19T00:31:15.919271",
     "exception": false,
     "start_time": "2022-03-19T00:31:15.894473",
     "status": "completed"
    },
    "tags": []
   },
   "outputs": [
    {
     "data": {
      "text/plain": [
       "(962, 66)"
      ]
     },
     "execution_count": 4,
     "metadata": {},
     "output_type": "execute_result"
    }
   ],
   "source": [
    "dependent_variable = \"Price\"\n",
    "independent_variables = data.columns.tolist()\n",
    "independent_variables.remove(dependent_variable)\n",
    "independent_variables.remove(\"Date\")\n",
    "independent_variables.remove(\"DateOfBought\")\n",
    "independent_variables.remove(\"DepCode\")\n",
    "independent_variables.remove(\"DesCode\")\n",
    "independent_variables.remove(\"PriceEx\")\n",
    "independent_variables.remove(\"Way\")\n",
    "independent_variables.remove(\"Day\")\n",
    "independent_variables.remove(\"Stop\")\n",
    "independent_variables.remove(\"Airplane\")\n",
    "independent_variables.remove(\"ArrTime\")\n",
    "independent_variables.remove(\"DepTime\")\n",
    "\n",
    "data.shape"
   ]
  },
  {
   "cell_type": "code",
   "execution_count": 5,
   "id": "bd40e9d0",
   "metadata": {
    "_cell_guid": "42d0fd06-24a5-4adb-9b9c-121109a098e9",
    "_uuid": "69ce6be3-db9a-4aa5-8ef7-0b3fd4d36bef",
    "collapsed": false,
    "execution": {
     "iopub.execute_input": "2022-03-19T00:31:15.949947Z",
     "iopub.status.busy": "2022-03-19T00:31:15.948030Z",
     "iopub.status.idle": "2022-03-19T00:31:15.954249Z",
     "shell.execute_reply": "2022-03-19T00:31:15.953594Z",
     "shell.execute_reply.started": "2022-03-19T00:23:51.444205Z"
    },
    "jupyter": {
     "outputs_hidden": false
    },
    "papermill": {
     "duration": 0.02449,
     "end_time": "2022-03-19T00:31:15.954393",
     "exception": false,
     "start_time": "2022-03-19T00:31:15.929903",
     "status": "completed"
    },
    "tags": []
   },
   "outputs": [],
   "source": [
    "x = data[independent_variables].values\n",
    "y = data[dependent_variable].values\n",
    "\n",
    "x = np.nan_to_num(x)\n",
    "y = np.nan_to_num(y)\n",
    "\n",
    "x = np.array(x)\n",
    "y = np.array(y)"
   ]
  },
  {
   "cell_type": "code",
   "execution_count": 6,
   "id": "5f22dc31",
   "metadata": {
    "_cell_guid": "2d94543b-f5f6-4c7c-aecd-13bb89c3db55",
    "_uuid": "347e0d53-aafd-4c75-9f4a-43f99a629b00",
    "collapsed": false,
    "execution": {
     "iopub.execute_input": "2022-03-19T00:31:15.983570Z",
     "iopub.status.busy": "2022-03-19T00:31:15.982616Z",
     "iopub.status.idle": "2022-03-19T00:31:15.985807Z",
     "shell.execute_reply": "2022-03-19T00:31:15.985168Z",
     "shell.execute_reply.started": "2022-03-19T00:23:51.466369Z"
    },
    "jupyter": {
     "outputs_hidden": false
    },
    "papermill": {
     "duration": 0.020987,
     "end_time": "2022-03-19T00:31:15.985948",
     "exception": false,
     "start_time": "2022-03-19T00:31:15.964961",
     "status": "completed"
    },
    "tags": []
   },
   "outputs": [],
   "source": [
    "x_train, x_test, y_train, y_test = train_test_split(x, y, test_size=0.2, random_state=1)"
   ]
  },
  {
   "cell_type": "code",
   "execution_count": 7,
   "id": "3c0b495d",
   "metadata": {
    "_cell_guid": "de73390e-0eed-43eb-b6d2-2017163a0d76",
    "_uuid": "ba62fc0a-d2d2-4588-875f-5c1c3a7bfca0",
    "collapsed": false,
    "execution": {
     "iopub.execute_input": "2022-03-19T00:31:16.017668Z",
     "iopub.status.busy": "2022-03-19T00:31:16.010767Z",
     "iopub.status.idle": "2022-03-19T00:31:24.878919Z",
     "shell.execute_reply": "2022-03-19T00:31:24.879749Z",
     "shell.execute_reply.started": "2022-03-19T00:23:51.478369Z"
    },
    "jupyter": {
     "outputs_hidden": false
    },
    "papermill": {
     "duration": 8.883452,
     "end_time": "2022-03-19T00:31:24.880029",
     "exception": false,
     "start_time": "2022-03-19T00:31:15.996577",
     "status": "completed"
    },
    "tags": []
   },
   "outputs": [
    {
     "name": "stdout",
     "output_type": "stream",
     "text": [
      "Lin Reg RMSE:  136.38315446416792\n",
      "Lin Reg R2_SCORE:  0.7060238393229264\n",
      "Ran Reg RMSE:  81.69224487390991\n",
      "Ran Reg R2_SCORE:  0.8945243252649695\n",
      "MP Reg RMSE:  137.3756075899357\n",
      "MP Reg R2_SCORE:  0.701729773636981\n",
      "KNN Reg RMSE:  144.66927522460554\n",
      "KNN Reg R2_SCORE:  0.6692169382636196\n",
      "SV Reg RMSE:  219.3327902286444\n",
      "SV Reg R2_SCORE:  0.2396776125632868\n"
     ]
    }
   ],
   "source": [
    "# scaling datas\n",
    "scaler = MinMaxScaler()\n",
    "x_train = scaler.fit_transform(x_train)\n",
    "x_test = scaler.transform(x_test)\n",
    "\n",
    "# Linear Regresion\n",
    "lr = LinearRegression()\n",
    "lr.fit(x_train, y_train)\n",
    "y_pred = lr.predict(x_test)\n",
    "\n",
    "l_mean_squared_error = math.sqrt(mean_squared_error(y_test, y_pred))\n",
    "l_r2_score = r2_score(y_test, y_pred)\n",
    "l_adjusted_rand_score = adjusted_rand_score(y_test, y_pred)\n",
    "\n",
    "# Print scores\n",
    "print(\"Lin Reg RMSE: \", str(l_mean_squared_error))\n",
    "print(\"Lin Reg R2_SCORE: \", str(l_r2_score))\n",
    "\n",
    "# Random Forest Regression\n",
    "rfr = RandomForestRegressor(n_estimators = 100, random_state = 0)\n",
    "rfr.fit(x_train, y_train)\n",
    "y_pred = rfr.predict(x_test)\n",
    "\n",
    "r_mean_squared_error = math.sqrt(mean_squared_error(y_test, y_pred))\n",
    "r_r2_score = r2_score(y_test, y_pred)\n",
    "r_adjusted_rand_score = adjusted_rand_score(y_test, y_pred)\n",
    "\n",
    "print(\"Ran Reg RMSE: \", str(r_mean_squared_error))\n",
    "print(\"Ran Reg R2_SCORE: \", str(r_r2_score))\n",
    "\n",
    "# Multiple perceptron regression\n",
    "mpr = MLPRegressor(hidden_layer_sizes=(100, 100,), activation = \"identity\", max_iter=1000)\n",
    "mpr.fit(x_train, y_train)\n",
    "y_pred = mpr.predict(x_test)\n",
    "\n",
    "m_mean_squared_error = math.sqrt(mean_squared_error(y_test, y_pred))\n",
    "m_r2_score = r2_score(y_test, y_pred)\n",
    "m_adjusted_rand_score = adjusted_rand_score(y_test, y_pred)\n",
    "\n",
    "print(\"MP Reg RMSE: \", str(m_mean_squared_error))\n",
    "print(\"MP Reg R2_SCORE: \", str(m_r2_score))\n",
    "\n",
    "# KNN Regression\n",
    "knr = KNeighborsRegressor(n_neighbors=3)\n",
    "knr.fit(x_train, y_train)\n",
    "y_pred = knr.predict(x_test)\n",
    "\n",
    "k_mean_squared_error = math.sqrt(mean_squared_error(y_test, y_pred))\n",
    "k_r2_score = r2_score(y_test, y_pred)\n",
    "k_adjusted_rand_score = adjusted_rand_score(y_test, y_pred)\n",
    "\n",
    "print(\"KNN Reg RMSE: \", str(k_mean_squared_error))\n",
    "print(\"KNN Reg R2_SCORE: \", str(k_r2_score))\n",
    "\n",
    "\n",
    "# SVM Regression\n",
    "svr = SVR(kernel=\"linear\")\n",
    "svr.fit(x_train, y_train)\n",
    "y_pred = svr.predict(x_test)\n",
    "\n",
    "s_mean_squared_error = math.sqrt(mean_squared_error(y_test, y_pred))\n",
    "s_r2_score = r2_score(y_test, y_pred)\n",
    "s_adjusted_rand_score = adjusted_rand_score(y_test, y_pred)\n",
    "\n",
    "print(\"SV Reg RMSE: \", str(s_mean_squared_error))\n",
    "print(\"SV Reg R2_SCORE: \", str(s_r2_score))"
   ]
  }
 ],
 "metadata": {
  "kernelspec": {
   "display_name": "Python 3",
   "language": "python",
   "name": "python3"
  },
  "language_info": {
   "codemirror_mode": {
    "name": "ipython",
    "version": 3
   },
   "file_extension": ".py",
   "mimetype": "text/x-python",
   "name": "python",
   "nbconvert_exporter": "python",
   "pygments_lexer": "ipython3",
   "version": "3.7.12"
  },
  "papermill": {
   "default_parameters": {},
   "duration": 21.587489,
   "end_time": "2022-03-19T00:31:25.606886",
   "environment_variables": {},
   "exception": null,
   "input_path": "__notebook__.ipynb",
   "output_path": "__notebook__.ipynb",
   "parameters": {},
   "start_time": "2022-03-19T00:31:04.019397",
   "version": "2.3.3"
  }
 },
 "nbformat": 4,
 "nbformat_minor": 5
}
